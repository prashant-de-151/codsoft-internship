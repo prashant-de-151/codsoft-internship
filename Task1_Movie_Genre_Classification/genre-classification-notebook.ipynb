{
 "cells": [
  {
   "cell_type": "code",
   "execution_count": 1,
   "id": "f69a1312",
   "metadata": {
    "execution": {
     "iopub.execute_input": "2025-02-02T04:28:02.268625Z",
     "iopub.status.busy": "2025-02-02T04:28:02.268260Z",
     "iopub.status.idle": "2025-02-02T04:28:03.092360Z",
     "shell.execute_reply": "2025-02-02T04:28:03.091239Z"
    },
    "papermill": {
     "duration": 0.835486,
     "end_time": "2025-02-02T04:28:03.094063",
     "exception": false,
     "start_time": "2025-02-02T04:28:02.258577",
     "status": "completed"
    },
    "tags": []
   },
   "outputs": [
    {
     "name": "stdout",
     "output_type": "stream",
     "text": [
      "/kaggle/input/genre-classification-dataset-imdb/Genre Classification Dataset/description.txt\n",
      "/kaggle/input/genre-classification-dataset-imdb/Genre Classification Dataset/test_data_solution.txt\n",
      "/kaggle/input/genre-classification-dataset-imdb/Genre Classification Dataset/test_data.txt\n",
      "/kaggle/input/genre-classification-dataset-imdb/Genre Classification Dataset/train_data.txt\n"
     ]
    }
   ],
   "source": [
    "# This Python 3 environment comes with many helpful analytics libraries installed\n",
    "# It is defined by the kaggle/python Docker image: https://github.com/kaggle/docker-python\n",
    "# For example, here's several helpful packages to load\n",
    "\n",
    "import numpy as np # linear algebra\n",
    "import pandas as pd # data processing, CSV file I/O (e.g. pd.read_csv)\n",
    "\n",
    "# Input data files are available in the read-only \"../input/\" directory\n",
    "# For example, running this (by clicking run or pressing Shift+Enter) will list all files under the input directory\n",
    "\n",
    "import os\n",
    "for dirname, _, filenames in os.walk('/kaggle/input'):\n",
    "    for filename in filenames:\n",
    "        print(os.path.join(dirname, filename))\n",
    "\n",
    "# You can write up to 20GB to the current directory (/kaggle/working/) that gets preserved as output when you create a version using \"Save & Run All\" \n",
    "# You can also write temporary files to /kaggle/temp/, but they won't be saved outside of the current session"
   ]
  },
  {
   "cell_type": "code",
   "execution_count": 2,
   "id": "62c253d4",
   "metadata": {
    "execution": {
     "iopub.execute_input": "2025-02-02T04:28:03.109743Z",
     "iopub.status.busy": "2025-02-02T04:28:03.109234Z",
     "iopub.status.idle": "2025-02-02T04:28:03.113222Z",
     "shell.execute_reply": "2025-02-02T04:28:03.112396Z"
    },
    "id": "ca63ed46-e9eb-4a09-a12b-fec51f8de83f",
    "papermill": {
     "duration": 0.013463,
     "end_time": "2025-02-02T04:28:03.114982",
     "exception": false,
     "start_time": "2025-02-02T04:28:03.101519",
     "status": "completed"
    },
    "tags": []
   },
   "outputs": [],
   "source": [
    "import warnings\n",
    "warnings.filterwarnings('ignore')"
   ]
  },
  {
   "cell_type": "code",
   "execution_count": 3,
   "id": "6f92c9ca",
   "metadata": {
    "execution": {
     "iopub.execute_input": "2025-02-02T04:28:03.130370Z",
     "iopub.status.busy": "2025-02-02T04:28:03.130034Z",
     "iopub.status.idle": "2025-02-02T04:28:10.639970Z",
     "shell.execute_reply": "2025-02-02T04:28:10.639092Z"
    },
    "id": "625bf54a-386f-4de4-8368-5377218a9a4b",
    "papermill": {
     "duration": 7.519727,
     "end_time": "2025-02-02T04:28:10.641844",
     "exception": false,
     "start_time": "2025-02-02T04:28:03.122117",
     "status": "completed"
    },
    "tags": []
   },
   "outputs": [],
   "source": [
    "import matplotlib.pyplot as plt\n",
    "import seaborn as sns\n",
    "\n",
    "from sklearn.compose import ColumnTransformer\n",
    "from sklearn.impute import SimpleImputer\n",
    "from sklearn.preprocessing import KBinsDiscretizer\n",
    "from sklearn.pipeline import Pipeline\n",
    "from sklearn.base import BaseEstimator, TransformerMixin\n",
    "from sklearn.feature_extraction.text import TfidfVectorizer\n",
    "from sklearn.preprocessing import LabelEncoder\n",
    "from sklearn.naive_bayes import BernoulliNB\n",
    "from sklearn.neighbors import KNeighborsClassifier\n",
    "from sklearn.ensemble import RandomForestClassifier\n",
    "from sklearn.linear_model import LogisticRegression\n",
    "from sklearn.metrics import accuracy_score\n",
    "\n",
    "import spacy\n",
    "\n",
    "from scipy import sparse"
   ]
  },
  {
   "cell_type": "code",
   "execution_count": 4,
   "id": "a0b4e350",
   "metadata": {
    "execution": {
     "iopub.execute_input": "2025-02-02T04:28:10.658650Z",
     "iopub.status.busy": "2025-02-02T04:28:10.658043Z",
     "iopub.status.idle": "2025-02-02T04:28:12.750135Z",
     "shell.execute_reply": "2025-02-02T04:28:12.749279Z"
    },
    "id": "470df0da-bef0-4028-a08b-76f2e4ac9aef",
    "papermill": {
     "duration": 2.102675,
     "end_time": "2025-02-02T04:28:12.751925",
     "exception": false,
     "start_time": "2025-02-02T04:28:10.649250",
     "status": "completed"
    },
    "tags": []
   },
   "outputs": [],
   "source": [
    "train=pd.read_csv('/kaggle/input/genre-classification-dataset-imdb/Genre Classification Dataset/train_data.txt',sep=':::',header=None,names=['id','title','genre','description'])\n",
    "test=pd.read_csv('/kaggle/input/genre-classification-dataset-imdb/Genre Classification Dataset/test_data_solution.txt',sep=':::',header=None,names=['id','title','genre','description'])"
   ]
  },
  {
   "cell_type": "code",
   "execution_count": 5,
   "id": "f7a1b6a2",
   "metadata": {
    "execution": {
     "iopub.execute_input": "2025-02-02T04:28:12.768682Z",
     "iopub.status.busy": "2025-02-02T04:28:12.768272Z",
     "iopub.status.idle": "2025-02-02T04:28:12.793845Z",
     "shell.execute_reply": "2025-02-02T04:28:12.792827Z"
    },
    "id": "e2323a11-e8d9-402f-9dcd-972b2bf77b79",
    "outputId": "2e3fa0c6-c957-4ed0-b461-d934b0e53f9f",
    "papermill": {
     "duration": 0.03575,
     "end_time": "2025-02-02T04:28:12.795652",
     "exception": false,
     "start_time": "2025-02-02T04:28:12.759902",
     "status": "completed"
    },
    "tags": []
   },
   "outputs": [
    {
     "data": {
      "text/html": [
       "<div>\n",
       "<style scoped>\n",
       "    .dataframe tbody tr th:only-of-type {\n",
       "        vertical-align: middle;\n",
       "    }\n",
       "\n",
       "    .dataframe tbody tr th {\n",
       "        vertical-align: top;\n",
       "    }\n",
       "\n",
       "    .dataframe thead th {\n",
       "        text-align: right;\n",
       "    }\n",
       "</style>\n",
       "<table border=\"1\" class=\"dataframe\">\n",
       "  <thead>\n",
       "    <tr style=\"text-align: right;\">\n",
       "      <th></th>\n",
       "      <th>id</th>\n",
       "      <th>title</th>\n",
       "      <th>genre</th>\n",
       "      <th>description</th>\n",
       "    </tr>\n",
       "  </thead>\n",
       "  <tbody>\n",
       "    <tr>\n",
       "      <th>0</th>\n",
       "      <td>1</td>\n",
       "      <td>Oscar et la dame rose (2009)</td>\n",
       "      <td>drama</td>\n",
       "      <td>Listening in to a conversation between his do...</td>\n",
       "    </tr>\n",
       "    <tr>\n",
       "      <th>1</th>\n",
       "      <td>2</td>\n",
       "      <td>Cupid (1997)</td>\n",
       "      <td>thriller</td>\n",
       "      <td>A brother and sister with a past incestuous r...</td>\n",
       "    </tr>\n",
       "    <tr>\n",
       "      <th>2</th>\n",
       "      <td>3</td>\n",
       "      <td>Young, Wild and Wonderful (1980)</td>\n",
       "      <td>adult</td>\n",
       "      <td>As the bus empties the students for their fie...</td>\n",
       "    </tr>\n",
       "    <tr>\n",
       "      <th>3</th>\n",
       "      <td>4</td>\n",
       "      <td>The Secret Sin (1915)</td>\n",
       "      <td>drama</td>\n",
       "      <td>To help their unemployed father make ends mee...</td>\n",
       "    </tr>\n",
       "    <tr>\n",
       "      <th>4</th>\n",
       "      <td>5</td>\n",
       "      <td>The Unrecovered (2007)</td>\n",
       "      <td>drama</td>\n",
       "      <td>The film's title refers not only to the un-re...</td>\n",
       "    </tr>\n",
       "    <tr>\n",
       "      <th>...</th>\n",
       "      <td>...</td>\n",
       "      <td>...</td>\n",
       "      <td>...</td>\n",
       "      <td>...</td>\n",
       "    </tr>\n",
       "    <tr>\n",
       "      <th>54209</th>\n",
       "      <td>54210</td>\n",
       "      <td>\"Bonino\" (1953)</td>\n",
       "      <td>comedy</td>\n",
       "      <td>This short-lived NBC live sitcom centered on ...</td>\n",
       "    </tr>\n",
       "    <tr>\n",
       "      <th>54210</th>\n",
       "      <td>54211</td>\n",
       "      <td>Dead Girls Don't Cry (????)</td>\n",
       "      <td>horror</td>\n",
       "      <td>The NEXT Generation of EXPLOITATION. The sist...</td>\n",
       "    </tr>\n",
       "    <tr>\n",
       "      <th>54211</th>\n",
       "      <td>54212</td>\n",
       "      <td>Ronald Goedemondt: Ze bestaan echt (2008)</td>\n",
       "      <td>documentary</td>\n",
       "      <td>Ze bestaan echt, is a stand-up comedy about g...</td>\n",
       "    </tr>\n",
       "    <tr>\n",
       "      <th>54212</th>\n",
       "      <td>54213</td>\n",
       "      <td>Make Your Own Bed (1944)</td>\n",
       "      <td>comedy</td>\n",
       "      <td>Walter and Vivian live in the country and hav...</td>\n",
       "    </tr>\n",
       "    <tr>\n",
       "      <th>54213</th>\n",
       "      <td>54214</td>\n",
       "      <td>Nature's Fury: Storm of the Century (2006)</td>\n",
       "      <td>history</td>\n",
       "      <td>On Labor Day Weekend, 1935, the most intense ...</td>\n",
       "    </tr>\n",
       "  </tbody>\n",
       "</table>\n",
       "<p>54214 rows × 4 columns</p>\n",
       "</div>"
      ],
      "text/plain": [
       "          id                                         title          genre  \\\n",
       "0          1                 Oscar et la dame rose (2009)          drama    \n",
       "1          2                                 Cupid (1997)       thriller    \n",
       "2          3             Young, Wild and Wonderful (1980)          adult    \n",
       "3          4                        The Secret Sin (1915)          drama    \n",
       "4          5                       The Unrecovered (2007)          drama    \n",
       "...      ...                                           ...            ...   \n",
       "54209  54210                              \"Bonino\" (1953)         comedy    \n",
       "54210  54211                  Dead Girls Don't Cry (????)         horror    \n",
       "54211  54212    Ronald Goedemondt: Ze bestaan echt (2008)    documentary    \n",
       "54212  54213                     Make Your Own Bed (1944)         comedy    \n",
       "54213  54214   Nature's Fury: Storm of the Century (2006)        history    \n",
       "\n",
       "                                             description  \n",
       "0       Listening in to a conversation between his do...  \n",
       "1       A brother and sister with a past incestuous r...  \n",
       "2       As the bus empties the students for their fie...  \n",
       "3       To help their unemployed father make ends mee...  \n",
       "4       The film's title refers not only to the un-re...  \n",
       "...                                                  ...  \n",
       "54209   This short-lived NBC live sitcom centered on ...  \n",
       "54210   The NEXT Generation of EXPLOITATION. The sist...  \n",
       "54211   Ze bestaan echt, is a stand-up comedy about g...  \n",
       "54212   Walter and Vivian live in the country and hav...  \n",
       "54213   On Labor Day Weekend, 1935, the most intense ...  \n",
       "\n",
       "[54214 rows x 4 columns]"
      ]
     },
     "execution_count": 5,
     "metadata": {},
     "output_type": "execute_result"
    }
   ],
   "source": [
    "train"
   ]
  },
  {
   "cell_type": "code",
   "execution_count": 6,
   "id": "950db899",
   "metadata": {
    "execution": {
     "iopub.execute_input": "2025-02-02T04:28:12.811588Z",
     "iopub.status.busy": "2025-02-02T04:28:12.811212Z",
     "iopub.status.idle": "2025-02-02T04:28:12.821757Z",
     "shell.execute_reply": "2025-02-02T04:28:12.820838Z"
    },
    "id": "0226c27f-aad9-4a17-b890-a5e50fe3cd49",
    "outputId": "94767acb-e214-4375-b9b4-8224298697e4",
    "papermill": {
     "duration": 0.019967,
     "end_time": "2025-02-02T04:28:12.823124",
     "exception": false,
     "start_time": "2025-02-02T04:28:12.803157",
     "status": "completed"
    },
    "tags": []
   },
   "outputs": [
    {
     "data": {
      "text/html": [
       "<div>\n",
       "<style scoped>\n",
       "    .dataframe tbody tr th:only-of-type {\n",
       "        vertical-align: middle;\n",
       "    }\n",
       "\n",
       "    .dataframe tbody tr th {\n",
       "        vertical-align: top;\n",
       "    }\n",
       "\n",
       "    .dataframe thead th {\n",
       "        text-align: right;\n",
       "    }\n",
       "</style>\n",
       "<table border=\"1\" class=\"dataframe\">\n",
       "  <thead>\n",
       "    <tr style=\"text-align: right;\">\n",
       "      <th></th>\n",
       "      <th>id</th>\n",
       "      <th>title</th>\n",
       "      <th>genre</th>\n",
       "      <th>description</th>\n",
       "    </tr>\n",
       "  </thead>\n",
       "  <tbody>\n",
       "    <tr>\n",
       "      <th>0</th>\n",
       "      <td>1</td>\n",
       "      <td>Edgar's Lunch (1998)</td>\n",
       "      <td>thriller</td>\n",
       "      <td>L.R. Brane loves his life - his car, his apar...</td>\n",
       "    </tr>\n",
       "    <tr>\n",
       "      <th>1</th>\n",
       "      <td>2</td>\n",
       "      <td>La guerra de papá (1977)</td>\n",
       "      <td>comedy</td>\n",
       "      <td>Spain, March 1964: Quico is a very naughty ch...</td>\n",
       "    </tr>\n",
       "    <tr>\n",
       "      <th>2</th>\n",
       "      <td>3</td>\n",
       "      <td>Off the Beaten Track (2010)</td>\n",
       "      <td>documentary</td>\n",
       "      <td>One year in the life of Albin and his family ...</td>\n",
       "    </tr>\n",
       "    <tr>\n",
       "      <th>3</th>\n",
       "      <td>4</td>\n",
       "      <td>Meu Amigo Hindu (2015)</td>\n",
       "      <td>drama</td>\n",
       "      <td>His father has died, he hasn't spoken with hi...</td>\n",
       "    </tr>\n",
       "    <tr>\n",
       "      <th>4</th>\n",
       "      <td>5</td>\n",
       "      <td>Er nu zhai (1955)</td>\n",
       "      <td>drama</td>\n",
       "      <td>Before he was known internationally as a mart...</td>\n",
       "    </tr>\n",
       "    <tr>\n",
       "      <th>...</th>\n",
       "      <td>...</td>\n",
       "      <td>...</td>\n",
       "      <td>...</td>\n",
       "      <td>...</td>\n",
       "    </tr>\n",
       "    <tr>\n",
       "      <th>54195</th>\n",
       "      <td>54196</td>\n",
       "      <td>\"Tales of Light &amp; Dark\" (2013)</td>\n",
       "      <td>horror</td>\n",
       "      <td>Covering multiple genres, Tales of Light &amp; Da...</td>\n",
       "    </tr>\n",
       "    <tr>\n",
       "      <th>54196</th>\n",
       "      <td>54197</td>\n",
       "      <td>Der letzte Mohikaner (1965)</td>\n",
       "      <td>western</td>\n",
       "      <td>As Alice and Cora Munro attempt to find their...</td>\n",
       "    </tr>\n",
       "    <tr>\n",
       "      <th>54197</th>\n",
       "      <td>54198</td>\n",
       "      <td>Oliver Twink (2007)</td>\n",
       "      <td>adult</td>\n",
       "      <td>A movie 169 years in the making. Oliver Twist...</td>\n",
       "    </tr>\n",
       "    <tr>\n",
       "      <th>54198</th>\n",
       "      <td>54199</td>\n",
       "      <td>Slipstream (1973)</td>\n",
       "      <td>drama</td>\n",
       "      <td>Popular, but mysterious rock D.J Mike Mallard...</td>\n",
       "    </tr>\n",
       "    <tr>\n",
       "      <th>54199</th>\n",
       "      <td>54200</td>\n",
       "      <td>Curitiba Zero Grau (2010)</td>\n",
       "      <td>drama</td>\n",
       "      <td>Curitiba is a city in movement, with rhythms ...</td>\n",
       "    </tr>\n",
       "  </tbody>\n",
       "</table>\n",
       "<p>54200 rows × 4 columns</p>\n",
       "</div>"
      ],
      "text/plain": [
       "          id                             title          genre  \\\n",
       "0          1             Edgar's Lunch (1998)       thriller    \n",
       "1          2         La guerra de papá (1977)         comedy    \n",
       "2          3      Off the Beaten Track (2010)    documentary    \n",
       "3          4           Meu Amigo Hindu (2015)          drama    \n",
       "4          5                Er nu zhai (1955)          drama    \n",
       "...      ...                               ...            ...   \n",
       "54195  54196   \"Tales of Light & Dark\" (2013)         horror    \n",
       "54196  54197      Der letzte Mohikaner (1965)        western    \n",
       "54197  54198              Oliver Twink (2007)          adult    \n",
       "54198  54199                Slipstream (1973)          drama    \n",
       "54199  54200        Curitiba Zero Grau (2010)          drama    \n",
       "\n",
       "                                             description  \n",
       "0       L.R. Brane loves his life - his car, his apar...  \n",
       "1       Spain, March 1964: Quico is a very naughty ch...  \n",
       "2       One year in the life of Albin and his family ...  \n",
       "3       His father has died, he hasn't spoken with hi...  \n",
       "4       Before he was known internationally as a mart...  \n",
       "...                                                  ...  \n",
       "54195   Covering multiple genres, Tales of Light & Da...  \n",
       "54196   As Alice and Cora Munro attempt to find their...  \n",
       "54197   A movie 169 years in the making. Oliver Twist...  \n",
       "54198   Popular, but mysterious rock D.J Mike Mallard...  \n",
       "54199   Curitiba is a city in movement, with rhythms ...  \n",
       "\n",
       "[54200 rows x 4 columns]"
      ]
     },
     "execution_count": 6,
     "metadata": {},
     "output_type": "execute_result"
    }
   ],
   "source": [
    "test"
   ]
  },
  {
   "cell_type": "code",
   "execution_count": 7,
   "id": "1a6e3c09",
   "metadata": {
    "execution": {
     "iopub.execute_input": "2025-02-02T04:28:12.839308Z",
     "iopub.status.busy": "2025-02-02T04:28:12.838961Z",
     "iopub.status.idle": "2025-02-02T04:28:12.850191Z",
     "shell.execute_reply": "2025-02-02T04:28:12.849156Z"
    },
    "id": "3dc663a3-2dd5-4c31-8fc1-55ac93468cfb",
    "papermill": {
     "duration": 0.021349,
     "end_time": "2025-02-02T04:28:12.852137",
     "exception": false,
     "start_time": "2025-02-02T04:28:12.830788",
     "status": "completed"
    },
    "tags": []
   },
   "outputs": [],
   "source": [
    "# dropping off unnecessary columns\n",
    "\n",
    "train=train.drop(['id'],axis=1)\n",
    "test=test.drop(['id'],axis=1)"
   ]
  },
  {
   "cell_type": "markdown",
   "id": "fec9516a",
   "metadata": {
    "id": "5f033bfb-c6d8-4854-9963-bb46b6101b4e",
    "papermill": {
     "duration": 0.007196,
     "end_time": "2025-02-02T04:28:12.867325",
     "exception": false,
     "start_time": "2025-02-02T04:28:12.860129",
     "status": "completed"
    },
    "tags": []
   },
   "source": [
    "## Feature Creation"
   ]
  },
  {
   "cell_type": "code",
   "execution_count": 8,
   "id": "9f2ebec7",
   "metadata": {
    "execution": {
     "iopub.execute_input": "2025-02-02T04:28:12.883573Z",
     "iopub.status.busy": "2025-02-02T04:28:12.883194Z",
     "iopub.status.idle": "2025-02-02T04:28:12.888969Z",
     "shell.execute_reply": "2025-02-02T04:28:12.888149Z"
    },
    "id": "da510c14-b3e3-450b-89dc-bb0b065f6417",
    "outputId": "0b8306c7-a674-475f-8dc5-17d8b369c7b0",
    "papermill": {
     "duration": 0.015596,
     "end_time": "2025-02-02T04:28:12.890404",
     "exception": false,
     "start_time": "2025-02-02T04:28:12.874808",
     "status": "completed"
    },
    "tags": []
   },
   "outputs": [
    {
     "data": {
      "text/plain": [
       "'2009'"
      ]
     },
     "execution_count": 8,
     "metadata": {},
     "output_type": "execute_result"
    }
   ],
   "source": [
    "train['title'][0].split('(')[-1][:4]"
   ]
  },
  {
   "cell_type": "code",
   "execution_count": 9,
   "id": "cad85369",
   "metadata": {
    "execution": {
     "iopub.execute_input": "2025-02-02T04:28:12.907011Z",
     "iopub.status.busy": "2025-02-02T04:28:12.906680Z",
     "iopub.status.idle": "2025-02-02T04:28:12.912422Z",
     "shell.execute_reply": "2025-02-02T04:28:12.911555Z"
    },
    "id": "b9cda1f3-f0c3-42c9-8e24-44fe579390d7",
    "outputId": "6f478355-3375-422e-aa9f-30e508b27fdc",
    "papermill": {
     "duration": 0.015754,
     "end_time": "2025-02-02T04:28:12.913962",
     "exception": false,
     "start_time": "2025-02-02T04:28:12.898208",
     "status": "completed"
    },
    "tags": []
   },
   "outputs": [
    {
     "data": {
      "text/plain": [
       "' Oscar et la dame rose '"
      ]
     },
     "execution_count": 9,
     "metadata": {},
     "output_type": "execute_result"
    }
   ],
   "source": [
    "train['title'][0].split('(')[:-1][0]"
   ]
  },
  {
   "cell_type": "code",
   "execution_count": 10,
   "id": "978b3f5d",
   "metadata": {
    "execution": {
     "iopub.execute_input": "2025-02-02T04:28:12.931057Z",
     "iopub.status.busy": "2025-02-02T04:28:12.930736Z",
     "iopub.status.idle": "2025-02-02T04:28:13.043875Z",
     "shell.execute_reply": "2025-02-02T04:28:13.043035Z"
    },
    "id": "9fd49699-8602-45b4-a7c9-c569feabe18d",
    "papermill": {
     "duration": 0.123533,
     "end_time": "2025-02-02T04:28:13.045625",
     "exception": false,
     "start_time": "2025-02-02T04:28:12.922092",
     "status": "completed"
    },
    "tags": []
   },
   "outputs": [],
   "source": [
    "def extract_year(data):\n",
    "    if data.split('(')[-1][:4].isdigit():\n",
    "        return int(data.split('(')[-1][:4])\n",
    "    return None\n",
    "\n",
    "train['year']=train['title'].apply(extract_year)\n",
    "test['year']=test['title'].apply(extract_year)"
   ]
  },
  {
   "cell_type": "code",
   "execution_count": 11,
   "id": "da3e120a",
   "metadata": {
    "execution": {
     "iopub.execute_input": "2025-02-02T04:28:13.062968Z",
     "iopub.status.busy": "2025-02-02T04:28:13.062638Z",
     "iopub.status.idle": "2025-02-02T04:28:13.153597Z",
     "shell.execute_reply": "2025-02-02T04:28:13.152589Z"
    },
    "id": "6fff0af8-d69c-43c8-8136-e4893ab50c98",
    "papermill": {
     "duration": 0.10205,
     "end_time": "2025-02-02T04:28:13.155462",
     "exception": false,
     "start_time": "2025-02-02T04:28:13.053412",
     "status": "completed"
    },
    "tags": []
   },
   "outputs": [],
   "source": [
    "def transform_title(data):\n",
    "    if data.split('(')[-1][:4].isdigit():\n",
    "        return data.split('(')[:-1][0]\n",
    "    return None\n",
    "\n",
    "train['title']=train['title'].apply(transform_title)\n",
    "test['title']=test['title'].apply(transform_title)"
   ]
  },
  {
   "cell_type": "code",
   "execution_count": 12,
   "id": "8660a0ee",
   "metadata": {
    "execution": {
     "iopub.execute_input": "2025-02-02T04:28:13.172122Z",
     "iopub.status.busy": "2025-02-02T04:28:13.171806Z",
     "iopub.status.idle": "2025-02-02T04:28:13.184742Z",
     "shell.execute_reply": "2025-02-02T04:28:13.183844Z"
    },
    "id": "633d209d-04eb-420d-b400-8b956f7195b9",
    "outputId": "75631622-2c30-4682-de93-a9dd2a20dbd7",
    "papermill": {
     "duration": 0.023175,
     "end_time": "2025-02-02T04:28:13.186341",
     "exception": false,
     "start_time": "2025-02-02T04:28:13.163166",
     "status": "completed"
    },
    "tags": []
   },
   "outputs": [
    {
     "data": {
      "text/html": [
       "<div>\n",
       "<style scoped>\n",
       "    .dataframe tbody tr th:only-of-type {\n",
       "        vertical-align: middle;\n",
       "    }\n",
       "\n",
       "    .dataframe tbody tr th {\n",
       "        vertical-align: top;\n",
       "    }\n",
       "\n",
       "    .dataframe thead th {\n",
       "        text-align: right;\n",
       "    }\n",
       "</style>\n",
       "<table border=\"1\" class=\"dataframe\">\n",
       "  <thead>\n",
       "    <tr style=\"text-align: right;\">\n",
       "      <th></th>\n",
       "      <th>title</th>\n",
       "      <th>genre</th>\n",
       "      <th>description</th>\n",
       "      <th>year</th>\n",
       "    </tr>\n",
       "  </thead>\n",
       "  <tbody>\n",
       "    <tr>\n",
       "      <th>0</th>\n",
       "      <td>Oscar et la dame rose</td>\n",
       "      <td>drama</td>\n",
       "      <td>Listening in to a conversation between his do...</td>\n",
       "      <td>2009.0</td>\n",
       "    </tr>\n",
       "    <tr>\n",
       "      <th>1</th>\n",
       "      <td>Cupid</td>\n",
       "      <td>thriller</td>\n",
       "      <td>A brother and sister with a past incestuous r...</td>\n",
       "      <td>1997.0</td>\n",
       "    </tr>\n",
       "    <tr>\n",
       "      <th>2</th>\n",
       "      <td>Young, Wild and Wonderful</td>\n",
       "      <td>adult</td>\n",
       "      <td>As the bus empties the students for their fie...</td>\n",
       "      <td>1980.0</td>\n",
       "    </tr>\n",
       "    <tr>\n",
       "      <th>3</th>\n",
       "      <td>The Secret Sin</td>\n",
       "      <td>drama</td>\n",
       "      <td>To help their unemployed father make ends mee...</td>\n",
       "      <td>1915.0</td>\n",
       "    </tr>\n",
       "    <tr>\n",
       "      <th>4</th>\n",
       "      <td>The Unrecovered</td>\n",
       "      <td>drama</td>\n",
       "      <td>The film's title refers not only to the un-re...</td>\n",
       "      <td>2007.0</td>\n",
       "    </tr>\n",
       "    <tr>\n",
       "      <th>...</th>\n",
       "      <td>...</td>\n",
       "      <td>...</td>\n",
       "      <td>...</td>\n",
       "      <td>...</td>\n",
       "    </tr>\n",
       "    <tr>\n",
       "      <th>54209</th>\n",
       "      <td>\"Bonino\"</td>\n",
       "      <td>comedy</td>\n",
       "      <td>This short-lived NBC live sitcom centered on ...</td>\n",
       "      <td>1953.0</td>\n",
       "    </tr>\n",
       "    <tr>\n",
       "      <th>54210</th>\n",
       "      <td>None</td>\n",
       "      <td>horror</td>\n",
       "      <td>The NEXT Generation of EXPLOITATION. The sist...</td>\n",
       "      <td>NaN</td>\n",
       "    </tr>\n",
       "    <tr>\n",
       "      <th>54211</th>\n",
       "      <td>Ronald Goedemondt: Ze bestaan echt</td>\n",
       "      <td>documentary</td>\n",
       "      <td>Ze bestaan echt, is a stand-up comedy about g...</td>\n",
       "      <td>2008.0</td>\n",
       "    </tr>\n",
       "    <tr>\n",
       "      <th>54212</th>\n",
       "      <td>Make Your Own Bed</td>\n",
       "      <td>comedy</td>\n",
       "      <td>Walter and Vivian live in the country and hav...</td>\n",
       "      <td>1944.0</td>\n",
       "    </tr>\n",
       "    <tr>\n",
       "      <th>54213</th>\n",
       "      <td>Nature's Fury: Storm of the Century</td>\n",
       "      <td>history</td>\n",
       "      <td>On Labor Day Weekend, 1935, the most intense ...</td>\n",
       "      <td>2006.0</td>\n",
       "    </tr>\n",
       "  </tbody>\n",
       "</table>\n",
       "<p>54214 rows × 4 columns</p>\n",
       "</div>"
      ],
      "text/plain": [
       "                                       title          genre  \\\n",
       "0                     Oscar et la dame rose          drama    \n",
       "1                                     Cupid       thriller    \n",
       "2                 Young, Wild and Wonderful          adult    \n",
       "3                            The Secret Sin          drama    \n",
       "4                           The Unrecovered          drama    \n",
       "...                                      ...            ...   \n",
       "54209                              \"Bonino\"         comedy    \n",
       "54210                                   None        horror    \n",
       "54211    Ronald Goedemondt: Ze bestaan echt    documentary    \n",
       "54212                     Make Your Own Bed         comedy    \n",
       "54213   Nature's Fury: Storm of the Century        history    \n",
       "\n",
       "                                             description    year  \n",
       "0       Listening in to a conversation between his do...  2009.0  \n",
       "1       A brother and sister with a past incestuous r...  1997.0  \n",
       "2       As the bus empties the students for their fie...  1980.0  \n",
       "3       To help their unemployed father make ends mee...  1915.0  \n",
       "4       The film's title refers not only to the un-re...  2007.0  \n",
       "...                                                  ...     ...  \n",
       "54209   This short-lived NBC live sitcom centered on ...  1953.0  \n",
       "54210   The NEXT Generation of EXPLOITATION. The sist...     NaN  \n",
       "54211   Ze bestaan echt, is a stand-up comedy about g...  2008.0  \n",
       "54212   Walter and Vivian live in the country and hav...  1944.0  \n",
       "54213   On Labor Day Weekend, 1935, the most intense ...  2006.0  \n",
       "\n",
       "[54214 rows x 4 columns]"
      ]
     },
     "execution_count": 12,
     "metadata": {},
     "output_type": "execute_result"
    }
   ],
   "source": [
    "train"
   ]
  },
  {
   "cell_type": "markdown",
   "id": "73c03447",
   "metadata": {
    "id": "138e44d6-027b-44f8-b670-363ea6e45ac3",
    "papermill": {
     "duration": 0.007948,
     "end_time": "2025-02-02T04:28:13.202424",
     "exception": false,
     "start_time": "2025-02-02T04:28:13.194476",
     "status": "completed"
    },
    "tags": []
   },
   "source": [
    "## missing values"
   ]
  },
  {
   "cell_type": "code",
   "execution_count": 13,
   "id": "f601ba98",
   "metadata": {
    "execution": {
     "iopub.execute_input": "2025-02-02T04:28:13.220029Z",
     "iopub.status.busy": "2025-02-02T04:28:13.219706Z",
     "iopub.status.idle": "2025-02-02T04:28:13.238683Z",
     "shell.execute_reply": "2025-02-02T04:28:13.237522Z"
    },
    "id": "0dca1780-5d92-4284-92e5-ddc97e4c5fc8",
    "outputId": "003b4fb1-ffc8-43aa-ab27-d00834311989",
    "papermill": {
     "duration": 0.029212,
     "end_time": "2025-02-02T04:28:13.240260",
     "exception": false,
     "start_time": "2025-02-02T04:28:13.211048",
     "status": "completed"
    },
    "tags": []
   },
   "outputs": [
    {
     "name": "stdout",
     "output_type": "stream",
     "text": [
      "\"Year\" Column on train dataset got 4.965507064595861 percent missing values.\n"
     ]
    }
   ],
   "source": [
    "missing_val=train.isna().sum()['year']\n",
    "total_val=train.shape[0]\n",
    "print(f'\"Year\" Column on train dataset got {(missing_val/total_val)*100} percent missing values.')"
   ]
  },
  {
   "cell_type": "code",
   "execution_count": 14,
   "id": "6332996d",
   "metadata": {
    "execution": {
     "iopub.execute_input": "2025-02-02T04:28:13.257137Z",
     "iopub.status.busy": "2025-02-02T04:28:13.256787Z",
     "iopub.status.idle": "2025-02-02T04:28:13.276029Z",
     "shell.execute_reply": "2025-02-02T04:28:13.274914Z"
    },
    "id": "01a1de1f-ef9b-44de-bb19-e2832b550671",
    "outputId": "d125c4df-4abd-4fe4-c874-8e20483ddad7",
    "papermill": {
     "duration": 0.029693,
     "end_time": "2025-02-02T04:28:13.277850",
     "exception": false,
     "start_time": "2025-02-02T04:28:13.248157",
     "status": "completed"
    },
    "tags": []
   },
   "outputs": [
    {
     "name": "stdout",
     "output_type": "stream",
     "text": [
      "\"Year\" Column on test dataset got 5.119926199261993 percent missing values.\n"
     ]
    }
   ],
   "source": [
    "missing_val=test.isna().sum()['year']\n",
    "total_val=test.shape[0]\n",
    "print(f'\"Year\" Column on test dataset got {(missing_val/total_val)*100} percent missing values.')"
   ]
  },
  {
   "cell_type": "markdown",
   "id": "41225988",
   "metadata": {
    "id": "875b170f-c6c9-41c6-92a6-ec219350952f",
    "papermill": {
     "duration": 0.007667,
     "end_time": "2025-02-02T04:28:13.293625",
     "exception": false,
     "start_time": "2025-02-02T04:28:13.285958",
     "status": "completed"
    },
    "tags": []
   },
   "source": [
    "## EDA"
   ]
  },
  {
   "cell_type": "code",
   "execution_count": 15,
   "id": "1c9f0219",
   "metadata": {
    "execution": {
     "iopub.execute_input": "2025-02-02T04:28:13.310764Z",
     "iopub.status.busy": "2025-02-02T04:28:13.310377Z",
     "iopub.status.idle": "2025-02-02T04:28:15.441735Z",
     "shell.execute_reply": "2025-02-02T04:28:15.440739Z"
    },
    "id": "7be3d8ea-43a2-4059-8bc5-c1e65f0197fb",
    "outputId": "43565320-d59b-4aa4-e903-3debe537905e",
    "papermill": {
     "duration": 2.142034,
     "end_time": "2025-02-02T04:28:15.443613",
     "exception": false,
     "start_time": "2025-02-02T04:28:13.301579",
     "status": "completed"
    },
    "tags": []
   },
   "outputs": [
    {
     "data": {
      "image/png": "[encoded data removed]",
      "text/plain": [
       "<Figure size 640x480 with 1 Axes>"
      ]
     },
     "metadata": {},
     "output_type": "display_data"
    }
   ],
   "source": [
    "train['year'].plot(kind='kde',color='red')\n",
    "test['year'].plot(kind='kde',color='blue')\n",
    "plt.show()"
   ]
  },
  {
   "cell_type": "code",
   "execution_count": 16,
   "id": "fab490ca",
   "metadata": {
    "execution": {
     "iopub.execute_input": "2025-02-02T04:28:15.462085Z",
     "iopub.status.busy": "2025-02-02T04:28:15.461742Z",
     "iopub.status.idle": "2025-02-02T04:28:15.738635Z",
     "shell.execute_reply": "2025-02-02T04:28:15.737594Z"
    },
    "id": "8196e456-19ca-483b-a78b-63d5b667726a",
    "outputId": "a605a942-e5a7-47c3-ccae-31fbe4267163",
    "papermill": {
     "duration": 0.288155,
     "end_time": "2025-02-02T04:28:15.740327",
     "exception": false,
     "start_time": "2025-02-02T04:28:15.452172",
     "status": "completed"
    },
    "tags": []
   },
   "outputs": [
    {
     "data": {
      "image/png": "[encoded data removed]",
      "text/plain": [
       "<Figure size 640x480 with 1 Axes>"
      ]
     },
     "metadata": {},
     "output_type": "display_data"
    }
   ],
   "source": [
    "train['genre'].value_counts().plot(kind='pie')\n",
    "plt.show()"
   ]
  },
  {
   "cell_type": "code",
   "execution_count": 17,
   "id": "c8905304",
   "metadata": {
    "execution": {
     "iopub.execute_input": "2025-02-02T04:28:15.762268Z",
     "iopub.status.busy": "2025-02-02T04:28:15.761931Z",
     "iopub.status.idle": "2025-02-02T04:28:16.015700Z",
     "shell.execute_reply": "2025-02-02T04:28:16.014595Z"
    },
    "id": "5f44d402-1fe2-4d78-9f56-c04caf89d1f3",
    "outputId": "2d5d7a29-822a-4869-be0f-1afe928ce55f",
    "papermill": {
     "duration": 0.266939,
     "end_time": "2025-02-02T04:28:16.017457",
     "exception": false,
     "start_time": "2025-02-02T04:28:15.750518",
     "status": "completed"
    },
    "tags": []
   },
   "outputs": [
    {
     "data": {
      "image/png": "[encoded data removed]",
      "text/plain": [
       "<Figure size 640x480 with 1 Axes>"
      ]
     },
     "metadata": {},
     "output_type": "display_data"
    }
   ],
   "source": [
    "test['genre'].value_counts().plot(kind='pie')\n",
    "plt.show()"
   ]
  },
  {
   "cell_type": "code",
   "execution_count": 18,
   "id": "f9c73126",
   "metadata": {
    "execution": {
     "iopub.execute_input": "2025-02-02T04:28:16.040865Z",
     "iopub.status.busy": "2025-02-02T04:28:16.040451Z",
     "iopub.status.idle": "2025-02-02T04:28:16.053339Z",
     "shell.execute_reply": "2025-02-02T04:28:16.052261Z"
    },
    "id": "be2fe3d9-47c0-4733-be07-66dcf0f318e8",
    "papermill": {
     "duration": 0.026733,
     "end_time": "2025-02-02T04:28:16.055170",
     "exception": false,
     "start_time": "2025-02-02T04:28:16.028437",
     "status": "completed"
    },
    "tags": []
   },
   "outputs": [],
   "source": [
    "# making x_train & y_train and x_test & y_test\n",
    "\n",
    "x_train=train.drop('genre',axis=1)\n",
    "y_train=train['genre']\n",
    "\n",
    "x_test=test.drop('genre',axis=1)\n",
    "y_test=test['genre']"
   ]
  },
  {
   "cell_type": "code",
   "execution_count": 19,
   "id": "f447c29f",
   "metadata": {
    "execution": {
     "iopub.execute_input": "2025-02-02T04:28:16.079232Z",
     "iopub.status.busy": "2025-02-02T04:28:16.078872Z",
     "iopub.status.idle": "2025-02-02T04:28:16.084312Z",
     "shell.execute_reply": "2025-02-02T04:28:16.083243Z"
    },
    "id": "c2dad039-5bd6-42b5-b2e4-a849fdac4af4",
    "papermill": {
     "duration": 0.019394,
     "end_time": "2025-02-02T04:28:16.085939",
     "exception": false,
     "start_time": "2025-02-02T04:28:16.066545",
     "status": "completed"
    },
    "tags": []
   },
   "outputs": [],
   "source": [
    "# for imputing missing values\n",
    "tran_imputing_na_101 = ColumnTransformer(\n",
    "    [(\"fill_na\", SimpleImputer(missing_values=np.nan, strategy='mean'), [-1])],remainder='passthrough')\n",
    "\n",
    "# put bins on year column\n",
    "tran_binning_102 = ColumnTransformer(\n",
    "    [(\"binning_year\", KBinsDiscretizer(n_bins=3, encode='ordinal', strategy='quantile'), [0])],remainder='passthrough')\n",
    "\n",
    "pipeline_101 = Pipeline([('Imputing_values',tran_imputing_na_101),('Binning',tran_binning_102)])"
   ]
  },
  {
   "cell_type": "code",
   "execution_count": 20,
   "id": "840b11c0",
   "metadata": {
    "execution": {
     "iopub.execute_input": "2025-02-02T04:28:16.109536Z",
     "iopub.status.busy": "2025-02-02T04:28:16.109136Z",
     "iopub.status.idle": "2025-02-02T04:28:16.182241Z",
     "shell.execute_reply": "2025-02-02T04:28:16.181083Z"
    },
    "id": "25976d2e-93df-4296-9de7-3d2a3c0ba56b",
    "papermill": {
     "duration": 0.087071,
     "end_time": "2025-02-02T04:28:16.184219",
     "exception": false,
     "start_time": "2025-02-02T04:28:16.097148",
     "status": "completed"
    },
    "tags": []
   },
   "outputs": [],
   "source": [
    "x_train=pipeline_101.fit_transform(x_train)\n",
    "x_test=pipeline_101.fit_transform(x_test)"
   ]
  },
  {
   "cell_type": "code",
   "execution_count": 21,
   "id": "0ffb642f",
   "metadata": {
    "execution": {
     "iopub.execute_input": "2025-02-02T04:28:16.207535Z",
     "iopub.status.busy": "2025-02-02T04:28:16.207131Z",
     "iopub.status.idle": "2025-02-02T04:28:16.213013Z",
     "shell.execute_reply": "2025-02-02T04:28:16.212076Z"
    },
    "id": "3f165a00-cc2f-46dc-9ab2-731f58b55e7a",
    "papermill": {
     "duration": 0.01919,
     "end_time": "2025-02-02T04:28:16.214394",
     "exception": false,
     "start_time": "2025-02-02T04:28:16.195204",
     "status": "completed"
    },
    "tags": []
   },
   "outputs": [],
   "source": [
    "class merge(BaseEstimator, TransformerMixin):\n",
    "    def __init__(self):\n",
    "        pass\n",
    "    def fit(self,data,y=None):\n",
    "        return self\n",
    "    def transform(self,data,y=None):\n",
    "        #data=np.array(data)\n",
    "        for i in range(data.shape[0]):\n",
    "            one_cell=''\n",
    "            for individual in data[i]:\n",
    "                one_cell += str(individual)\n",
    "            data[i]=one_cell\n",
    "        return data[:,:1].flatten()\n",
    "\n",
    "\n",
    "# merging all the individual columns and making them one\n",
    "pipeline_201 = Pipeline([('merging_columns_into_single',merge())])"
   ]
  },
  {
   "cell_type": "code",
   "execution_count": 22,
   "id": "df659750",
   "metadata": {
    "execution": {
     "iopub.execute_input": "2025-02-02T04:28:16.237887Z",
     "iopub.status.busy": "2025-02-02T04:28:16.237525Z",
     "iopub.status.idle": "2025-02-02T04:28:16.585633Z",
     "shell.execute_reply": "2025-02-02T04:28:16.584581Z"
    },
    "id": "f468929f-4ee3-4e9a-bc48-9062174f4a97",
    "papermill": {
     "duration": 0.362005,
     "end_time": "2025-02-02T04:28:16.587340",
     "exception": false,
     "start_time": "2025-02-02T04:28:16.225335",
     "status": "completed"
    },
    "tags": []
   },
   "outputs": [],
   "source": [
    "x_train=pipeline_201.fit_transform(x_train)\n",
    "x_test=pipeline_201.fit_transform(x_test)"
   ]
  },
  {
   "cell_type": "code",
   "execution_count": 23,
   "id": "c9cab9f0",
   "metadata": {
    "execution": {
     "iopub.execute_input": "2025-02-02T04:28:16.610612Z",
     "iopub.status.busy": "2025-02-02T04:28:16.610232Z",
     "iopub.status.idle": "2025-02-02T04:28:17.487212Z",
     "shell.execute_reply": "2025-02-02T04:28:17.486164Z"
    },
    "id": "9ba416c1-0721-4003-b8e9-98cacc9fc550",
    "papermill": {
     "duration": 0.890849,
     "end_time": "2025-02-02T04:28:17.489161",
     "exception": false,
     "start_time": "2025-02-02T04:28:16.598312",
     "status": "completed"
    },
    "tags": []
   },
   "outputs": [],
   "source": [
    "class text_processing(BaseEstimator, TransformerMixin):\n",
    "    def __init__(self):\n",
    "        pass\n",
    "    def fit(self,data,y=None):\n",
    "        return self\n",
    "    def transform(self,data,y=None):\n",
    "        for i in range(data.shape[0]):\n",
    "            filter_token=''\n",
    "            for token in nlp(data[i]):\n",
    "                if not token.is_punct and not token.is_stop:\n",
    "                    filter_token+=(token.lower_+' ')\n",
    "            data[i]=filter_token\n",
    "        return data\n",
    "\n",
    "\n",
    "nlp=spacy.load('en_core_web_sm') # making a spacy object\n",
    "# implementing text processing\n",
    "pipeline_301 = Pipeline([('merging_columns_into_single',text_processing())])"
   ]
  },
  {
   "cell_type": "code",
   "execution_count": 24,
   "id": "54dd6e39",
   "metadata": {
    "execution": {
     "iopub.execute_input": "2025-02-02T04:28:17.513017Z",
     "iopub.status.busy": "2025-02-02T04:28:17.512680Z",
     "iopub.status.idle": "2025-02-02T05:08:21.948148Z",
     "shell.execute_reply": "2025-02-02T05:08:21.946956Z"
    },
    "id": "e50efbf9-dbdd-411f-9572-376b9d40b4fe",
    "outputId": "b0577348-a4f7-430a-f1b5-96892f3b2d5a",
    "papermill": {
     "duration": 2404.449792,
     "end_time": "2025-02-02T05:08:21.950453",
     "exception": false,
     "start_time": "2025-02-02T04:28:17.500661",
     "status": "completed"
    },
    "tags": []
   },
   "outputs": [],
   "source": [
    "x_train=pipeline_301.fit_transform(x_train)\n",
    "x_test=pipeline_301.transform(x_test)"
   ]
  },
  {
   "cell_type": "code",
   "execution_count": 25,
   "id": "8d30f12d",
   "metadata": {
    "execution": {
     "iopub.execute_input": "2025-02-02T05:08:21.975142Z",
     "iopub.status.busy": "2025-02-02T05:08:21.974750Z",
     "iopub.status.idle": "2025-02-02T05:08:21.979082Z",
     "shell.execute_reply": "2025-02-02T05:08:21.978061Z"
    },
    "id": "3eff6838-dc10-4baf-b572-5638570d5f57",
    "papermill": {
     "duration": 0.018189,
     "end_time": "2025-02-02T05:08:21.980796",
     "exception": false,
     "start_time": "2025-02-02T05:08:21.962607",
     "status": "completed"
    },
    "tags": []
   },
   "outputs": [],
   "source": [
    "pipeline_401 = Pipeline([('tf_idf_vector',TfidfVectorizer())])"
   ]
  },
  {
   "cell_type": "code",
   "execution_count": 26,
   "id": "eb252275",
   "metadata": {
    "execution": {
     "iopub.execute_input": "2025-02-02T05:08:22.005678Z",
     "iopub.status.busy": "2025-02-02T05:08:22.005267Z",
     "iopub.status.idle": "2025-02-02T05:08:28.654180Z",
     "shell.execute_reply": "2025-02-02T05:08:28.653183Z"
    },
    "id": "f5d8d1ed-7605-46bb-9f49-2f40dfc4ba56",
    "papermill": {
     "duration": 6.663762,
     "end_time": "2025-02-02T05:08:28.655932",
     "exception": false,
     "start_time": "2025-02-02T05:08:21.992170",
     "status": "completed"
    },
    "tags": []
   },
   "outputs": [],
   "source": [
    "x_train=pipeline_401.fit_transform(x_train)\n",
    "x_test=pipeline_401.transform(x_test)"
   ]
  },
  {
   "cell_type": "code",
   "execution_count": 27,
   "id": "cc0b0d4a",
   "metadata": {
    "execution": {
     "iopub.execute_input": "2025-02-02T05:08:28.679969Z",
     "iopub.status.busy": "2025-02-02T05:08:28.679623Z",
     "iopub.status.idle": "2025-02-02T05:08:28.684098Z",
     "shell.execute_reply": "2025-02-02T05:08:28.682967Z"
    },
    "id": "0779fbf2-a894-4756-89c1-bb03d1d5baf0",
    "papermill": {
     "duration": 0.018577,
     "end_time": "2025-02-02T05:08:28.685910",
     "exception": false,
     "start_time": "2025-02-02T05:08:28.667333",
     "status": "completed"
    },
    "tags": []
   },
   "outputs": [],
   "source": [
    "# converting numpy sparase metrics to Scipy metrics\n",
    "\n",
    "x_train=sparse.csr_matrix(x_train)\n",
    "x_test=sparse.csr_matrix(x_test)"
   ]
  },
  {
   "cell_type": "code",
   "execution_count": 28,
   "id": "28712d54",
   "metadata": {
    "execution": {
     "iopub.execute_input": "2025-02-02T05:08:28.710304Z",
     "iopub.status.busy": "2025-02-02T05:08:28.709958Z",
     "iopub.status.idle": "2025-02-02T05:08:28.736544Z",
     "shell.execute_reply": "2025-02-02T05:08:28.735376Z"
    },
    "id": "d4f5fb1a-16dd-49bf-b8f4-1f98bc1e5490",
    "papermill": {
     "duration": 0.040971,
     "end_time": "2025-02-02T05:08:28.738664",
     "exception": false,
     "start_time": "2025-02-02T05:08:28.697693",
     "status": "completed"
    },
    "tags": []
   },
   "outputs": [],
   "source": [
    "# Performing Label Encoding on Output Column\n",
    "\n",
    "label_encoder=LabelEncoder()\n",
    "\n",
    "y_train=label_encoder.fit_transform(y_train)\n",
    "y_test=label_encoder.fit_transform(y_test)"
   ]
  },
  {
   "cell_type": "markdown",
   "id": "e2ea5927",
   "metadata": {
    "id": "ioh_N7cyqd1U",
    "papermill": {
     "duration": 0.010902,
     "end_time": "2025-02-02T05:08:28.760871",
     "exception": false,
     "start_time": "2025-02-02T05:08:28.749969",
     "status": "completed"
    },
    "tags": []
   },
   "source": [
    "## Implementing different Models"
   ]
  },
  {
   "cell_type": "code",
   "execution_count": 29,
   "id": "b6aa3aaa",
   "metadata": {
    "execution": {
     "iopub.execute_input": "2025-02-02T05:08:28.784841Z",
     "iopub.status.busy": "2025-02-02T05:08:28.784454Z",
     "iopub.status.idle": "2025-02-02T05:08:29.281359Z",
     "shell.execute_reply": "2025-02-02T05:08:29.280315Z"
    },
    "id": "vWHuDFgEqw4a",
    "papermill": {
     "duration": 0.510829,
     "end_time": "2025-02-02T05:08:29.283149",
     "exception": false,
     "start_time": "2025-02-02T05:08:28.772320",
     "status": "completed"
    },
    "tags": []
   },
   "outputs": [
    {
     "data": {
      "text/plain": [
       "0.4537822878228782"
      ]
     },
     "execution_count": 29,
     "metadata": {},
     "output_type": "execute_result"
    }
   ],
   "source": [
    "clf = BernoulliNB(alpha=2,fit_prior=False,binarize=0.019).fit(x_train,y_train)\n",
    "y_pred=clf.predict(x_test)\n",
    "accuracy_score(y_test, y_pred)"
   ]
  },
  {
   "cell_type": "code",
   "execution_count": 30,
   "id": "d6ad1f00",
   "metadata": {
    "execution": {
     "iopub.execute_input": "2025-02-02T05:08:29.307359Z",
     "iopub.status.busy": "2025-02-02T05:08:29.306957Z",
     "iopub.status.idle": "2025-02-02T06:08:00.447748Z",
     "shell.execute_reply": "2025-02-02T06:08:00.446703Z"
    },
    "id": "uSwq37DPqwnb",
    "papermill": {
     "duration": 3571.164728,
     "end_time": "2025-02-02T06:08:00.459470",
     "exception": false,
     "start_time": "2025-02-02T05:08:29.294742",
     "status": "completed"
    },
    "tags": []
   },
   "outputs": [
    {
     "data": {
      "text/plain": [
       "0.46870848708487084"
      ]
     },
     "execution_count": 30,
     "metadata": {},
     "output_type": "execute_result"
    }
   ],
   "source": [
    "neigh = KNeighborsClassifier(n_neighbors=230,weights='distance').fit(x_train,y_train)\n",
    "y_pred=neigh.predict(x_test)\n",
    "accuracy_score(y_test, y_pred)"
   ]
  },
  {
   "cell_type": "code",
   "execution_count": 31,
   "id": "6542757f",
   "metadata": {
    "execution": {
     "iopub.execute_input": "2025-02-02T06:08:00.483557Z",
     "iopub.status.busy": "2025-02-02T06:08:00.483131Z",
     "iopub.status.idle": "2025-02-02T06:25:29.730623Z",
     "shell.execute_reply": "2025-02-02T06:25:29.729580Z"
    },
    "id": "C8a_cAihqwR0",
    "papermill": {
     "duration": 1049.271895,
     "end_time": "2025-02-02T06:25:29.742896",
     "exception": false,
     "start_time": "2025-02-02T06:08:00.471001",
     "status": "completed"
    },
    "tags": []
   },
   "outputs": [
    {
     "data": {
      "text/plain": [
       "0.49308118081180813"
      ]
     },
     "execution_count": 31,
     "metadata": {},
     "output_type": "execute_result"
    }
   ],
   "source": [
    "rfc = RandomForestClassifier(n_estimators=195, random_state=42).fit(x_train,y_train)\n",
    "y_pred=rfc.predict(x_test)\n",
    "accuracy_score(y_test, y_pred)"
   ]
  },
  {
   "cell_type": "code",
   "execution_count": 32,
   "id": "7c570267",
   "metadata": {
    "execution": {
     "iopub.execute_input": "2025-02-02T06:25:29.766638Z",
     "iopub.status.busy": "2025-02-02T06:25:29.766243Z",
     "iopub.status.idle": "2025-02-02T06:25:45.115263Z",
     "shell.execute_reply": "2025-02-02T06:25:45.114300Z"
    },
    "id": "VSEvHddwqvqm",
    "papermill": {
     "duration": 15.362676,
     "end_time": "2025-02-02T06:25:45.116859",
     "exception": false,
     "start_time": "2025-02-02T06:25:29.754183",
     "status": "completed"
    },
    "tags": []
   },
   "outputs": [
    {
     "data": {
      "text/plain": [
       "0.5897416974169741"
      ]
     },
     "execution_count": 32,
     "metadata": {},
     "output_type": "execute_result"
    }
   ],
   "source": [
    "clf = LogisticRegression(multi_class='multinomial',solver='saga').fit(x_train,y_train)\n",
    "y_pred=clf.predict(x_test)\n",
    "accuracy_score(y_test, y_pred)"
   ]
  },
  {
   "cell_type": "code",
   "execution_count": null,
   "id": "03fe5e8a",
   "metadata": {
    "id": "9a9c0b19-70b1-4cff-98cb-fe3c4ced34ab",
    "papermill": {
     "duration": 0.011182,
     "end_time": "2025-02-02T06:25:45.140307",
     "exception": false,
     "start_time": "2025-02-02T06:25:45.129125",
     "status": "completed"
    },
    "tags": []
   },
   "outputs": [],
   "source": []
  }
 ],
 "metadata": {
  "colab": {
   "provenance": []
  },
  "kaggle": {
   "accelerator": "none",
   "dataSources": [
    {
     "datasetId": 1417162,
     "sourceId": 2347441,
     "sourceType": "datasetVersion"
    }
   ],
   "dockerImageVersionId": 30839,
   "isGpuEnabled": false,
   "isInternetEnabled": true,
   "language": "python",
   "sourceType": "notebook"
  },
  "kernelspec": {
   "display_name": "Python 3",
   "language": "python",
   "name": "python3"
  },
  "language_info": {
   "codemirror_mode": {
    "name": "ipython",
    "version": 3
   },
   "file_extension": ".py",
   "mimetype": "text/x-python",
   "name": "python",
   "nbconvert_exporter": "python",
   "pygments_lexer": "ipython3",
   "version": "3.10.12"
  },
  "papermill": {
   "default_parameters": {},
   "duration": 7068.164108,
   "end_time": "2025-02-02T06:25:47.828624",
   "environment_variables": {},
   "exception": null,
   "input_path": "__notebook__.ipynb",
   "output_path": "__notebook__.ipynb",
   "parameters": {},
   "start_time": "2025-02-02T04:27:59.664516",
   "version": "2.6.0"
  }
 },
 "nbformat": 4,
 "nbformat_minor": 5
}
