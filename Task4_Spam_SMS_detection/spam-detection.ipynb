{
 "cells": [
  {
   "cell_type": "markdown",
   "id": "4788b187",
   "metadata": {
    "papermill": {
     "duration": 0.005865,
     "end_time": "2025-04-18T18:08:45.148982",
     "exception": false,
     "start_time": "2025-04-18T18:08:45.143117",
     "status": "completed"
    },
    "tags": []
   },
   "source": [
    "<h1 style = \"text-align:center; font-family:courier; font-size:250%; color:yellow ; border: 1px solid; padding: 40px;\" >\n",
    "    <em>Spam Detection with Naive Bayes</em>\n",
    "</h1>"
   ]
  },
  {
   "cell_type": "markdown",
   "id": "ee5ebbf1",
   "metadata": {
    "papermill": {
     "duration": 0.00467,
     "end_time": "2025-04-18T18:08:45.158725",
     "exception": false,
     "start_time": "2025-04-18T18:08:45.154055",
     "status": "completed"
    },
    "tags": []
   },
   "source": [
    "####    ***In this project, we build a spam classifier using machine learning techniques. We use a labeled SMS dataset to detect whether a given message is spam or not. The process involves data cleaning, text preprocessing, feature extraction using TF-IDF, training a Naive Bayes model, evaluating the performance, and applying techniques to improve results.***"
   ]
  },
  {
   "cell_type": "markdown",
   "id": "df702a5a",
   "metadata": {
    "papermill": {
     "duration": 0.005634,
     "end_time": "2025-04-18T18:08:45.169275",
     "exception": false,
     "start_time": "2025-04-18T18:08:45.163641",
     "status": "completed"
    },
    "tags": []
   },
   "source": [
    "<hr style = \" border-top: 2px solid purple; \" />"
   ]
  },
  {
   "cell_type": "code",
   "execution_count": 1,
   "id": "ddf95664",
   "metadata": {
    "_cell_guid": "b1076dfc-b9ad-4769-8c92-a6c4dae69d19",
    "_uuid": "8f2839f25d086af736a60e9eeb907d3b93b6e0e5",
    "execution": {
     "iopub.execute_input": "2025-04-18T18:08:45.180224Z",
     "iopub.status.busy": "2025-04-18T18:08:45.179923Z",
     "iopub.status.idle": "2025-04-18T18:08:49.807857Z",
     "shell.execute_reply": "2025-04-18T18:08:49.806821Z"
    },
    "papermill": {
     "duration": 4.635507,
     "end_time": "2025-04-18T18:08:49.809631",
     "exception": false,
     "start_time": "2025-04-18T18:08:45.174124",
     "status": "completed"
    },
    "tags": []
   },
   "outputs": [],
   "source": [
    "import pandas as pd\n",
    "import matplotlib.pyplot as plt\n",
    "import re\n",
    "from sklearn.model_selection import train_test_split\n",
    "from sklearn.feature_extraction.text import TfidfVectorizer\n",
    "from sklearn.naive_bayes import MultinomialNB\n",
    "from sklearn.metrics import accuracy_score, classification_report, confusion_matrix\n",
    "import seaborn as sns\n",
    "from sklearn.model_selection import GridSearchCV\n",
    "from nltk.corpus import stopwords\n",
    "from nltk.stem import PorterStemmer"
   ]
  },
  {
   "cell_type": "markdown",
   "id": "abaf971f",
   "metadata": {
    "papermill": {
     "duration": 0.00471,
     "end_time": "2025-04-18T18:08:49.819883",
     "exception": false,
     "start_time": "2025-04-18T18:08:49.815173",
     "status": "completed"
    },
    "tags": []
   },
   "source": [
    "<hr style = \" border-top: 2px solid purple; \" />"
   ]
  },
  {
   "cell_type": "markdown",
   "id": "95850fba",
   "metadata": {
    "papermill": {
     "duration": 0.004508,
     "end_time": "2025-04-18T18:08:49.829156",
     "exception": false,
     "start_time": "2025-04-18T18:08:49.824648",
     "status": "completed"
    },
    "tags": []
   },
   "source": [
    "#### ***We use a public SMS Spam dataset from Kaggle. First, we inspect the data to understand its structure, the types of columns, and check for missing or irrelevant values.*** ####   "
   ]
  },
  {
   "cell_type": "markdown",
   "id": "5797fb0e",
   "metadata": {
    "papermill": {
     "duration": 0.005401,
     "end_time": "2025-04-18T18:08:49.839173",
     "exception": false,
     "start_time": "2025-04-18T18:08:49.833772",
     "status": "completed"
    },
    "tags": []
   },
   "source": [
    "<hr style = \" border-top: 2px solid purple; \" />"
   ]
  },
  {
   "cell_type": "code",
   "execution_count": 2,
   "id": "a1f157fd",
   "metadata": {
    "execution": {
     "iopub.execute_input": "2025-04-18T18:08:49.851361Z",
     "iopub.status.busy": "2025-04-18T18:08:49.850342Z",
     "iopub.status.idle": "2025-04-18T18:08:49.914291Z",
     "shell.execute_reply": "2025-04-18T18:08:49.913335Z"
    },
    "papermill": {
     "duration": 0.07153,
     "end_time": "2025-04-18T18:08:49.915925",
     "exception": false,
     "start_time": "2025-04-18T18:08:49.844395",
     "status": "completed"
    },
    "tags": []
   },
   "outputs": [
    {
     "data": {
      "text/html": [
       "<div>\n",
       "<style scoped>\n",
       "    .dataframe tbody tr th:only-of-type {\n",
       "        vertical-align: middle;\n",
       "    }\n",
       "\n",
       "    .dataframe tbody tr th {\n",
       "        vertical-align: top;\n",
       "    }\n",
       "\n",
       "    .dataframe thead th {\n",
       "        text-align: right;\n",
       "    }\n",
       "</style>\n",
       "<table border=\"1\" class=\"dataframe\">\n",
       "  <thead>\n",
       "    <tr style=\"text-align: right;\">\n",
       "      <th></th>\n",
       "      <th>0</th>\n",
       "      <th>1</th>\n",
       "      <th>2</th>\n",
       "      <th>3</th>\n",
       "      <th>4</th>\n",
       "    </tr>\n",
       "  </thead>\n",
       "  <tbody>\n",
       "    <tr>\n",
       "      <th>v1</th>\n",
       "      <td>ham</td>\n",
       "      <td>ham</td>\n",
       "      <td>spam</td>\n",
       "      <td>ham</td>\n",
       "      <td>ham</td>\n",
       "    </tr>\n",
       "    <tr>\n",
       "      <th>v2</th>\n",
       "      <td>Go until jurong point, crazy.. Available only ...</td>\n",
       "      <td>Ok lar... Joking wif u oni...</td>\n",
       "      <td>Free entry in 2 a wkly comp to win FA Cup fina...</td>\n",
       "      <td>U dun say so early hor... U c already then say...</td>\n",
       "      <td>Nah I don't think he goes to usf, he lives aro...</td>\n",
       "    </tr>\n",
       "    <tr>\n",
       "      <th>Unnamed: 2</th>\n",
       "      <td>NaN</td>\n",
       "      <td>NaN</td>\n",
       "      <td>NaN</td>\n",
       "      <td>NaN</td>\n",
       "      <td>NaN</td>\n",
       "    </tr>\n",
       "    <tr>\n",
       "      <th>Unnamed: 3</th>\n",
       "      <td>NaN</td>\n",
       "      <td>NaN</td>\n",
       "      <td>NaN</td>\n",
       "      <td>NaN</td>\n",
       "      <td>NaN</td>\n",
       "    </tr>\n",
       "    <tr>\n",
       "      <th>Unnamed: 4</th>\n",
       "      <td>NaN</td>\n",
       "      <td>NaN</td>\n",
       "      <td>NaN</td>\n",
       "      <td>NaN</td>\n",
       "      <td>NaN</td>\n",
       "    </tr>\n",
       "  </tbody>\n",
       "</table>\n",
       "</div>"
      ],
      "text/plain": [
       "                                                            0  \\\n",
       "v1                                                        ham   \n",
       "v2          Go until jurong point, crazy.. Available only ...   \n",
       "Unnamed: 2                                                NaN   \n",
       "Unnamed: 3                                                NaN   \n",
       "Unnamed: 4                                                NaN   \n",
       "\n",
       "                                        1  \\\n",
       "v1                                    ham   \n",
       "v2          Ok lar... Joking wif u oni...   \n",
       "Unnamed: 2                            NaN   \n",
       "Unnamed: 3                            NaN   \n",
       "Unnamed: 4                            NaN   \n",
       "\n",
       "                                                            2  \\\n",
       "v1                                                       spam   \n",
       "v2          Free entry in 2 a wkly comp to win FA Cup fina...   \n",
       "Unnamed: 2                                                NaN   \n",
       "Unnamed: 3                                                NaN   \n",
       "Unnamed: 4                                                NaN   \n",
       "\n",
       "                                                            3  \\\n",
       "v1                                                        ham   \n",
       "v2          U dun say so early hor... U c already then say...   \n",
       "Unnamed: 2                                                NaN   \n",
       "Unnamed: 3                                                NaN   \n",
       "Unnamed: 4                                                NaN   \n",
       "\n",
       "                                                            4  \n",
       "v1                                                        ham  \n",
       "v2          Nah I don't think he goes to usf, he lives aro...  \n",
       "Unnamed: 2                                                NaN  \n",
       "Unnamed: 3                                                NaN  \n",
       "Unnamed: 4                                                NaN  "
      ]
     },
     "execution_count": 2,
     "metadata": {},
     "output_type": "execute_result"
    }
   ],
   "source": [
    "df = pd.read_csv('/kaggle/input/sms-spam-collection-dataset/spam.csv',encoding='latin-1')\n",
    "df.head().T"
   ]
  },
  {
   "cell_type": "code",
   "execution_count": 3,
   "id": "0d7b8501",
   "metadata": {
    "execution": {
     "iopub.execute_input": "2025-04-18T18:08:49.928056Z",
     "iopub.status.busy": "2025-04-18T18:08:49.927277Z",
     "iopub.status.idle": "2025-04-18T18:08:49.956593Z",
     "shell.execute_reply": "2025-04-18T18:08:49.955531Z"
    },
    "papermill": {
     "duration": 0.036971,
     "end_time": "2025-04-18T18:08:49.958239",
     "exception": false,
     "start_time": "2025-04-18T18:08:49.921268",
     "status": "completed"
    },
    "tags": []
   },
   "outputs": [
    {
     "name": "stdout",
     "output_type": "stream",
     "text": [
      "<class 'pandas.core.frame.DataFrame'>\n",
      "RangeIndex: 5572 entries, 0 to 5571\n",
      "Data columns (total 5 columns):\n",
      " #   Column      Non-Null Count  Dtype \n",
      "---  ------      --------------  ----- \n",
      " 0   v1          5572 non-null   object\n",
      " 1   v2          5572 non-null   object\n",
      " 2   Unnamed: 2  50 non-null     object\n",
      " 3   Unnamed: 3  12 non-null     object\n",
      " 4   Unnamed: 4  6 non-null      object\n",
      "dtypes: object(5)\n",
      "memory usage: 217.8+ KB\n"
     ]
    }
   ],
   "source": [
    "df.info()"
   ]
  },
  {
   "cell_type": "code",
   "execution_count": 4,
   "id": "91447f81",
   "metadata": {
    "execution": {
     "iopub.execute_input": "2025-04-18T18:08:49.970261Z",
     "iopub.status.busy": "2025-04-18T18:08:49.969894Z",
     "iopub.status.idle": "2025-04-18T18:08:49.997549Z",
     "shell.execute_reply": "2025-04-18T18:08:49.996500Z"
    },
    "papermill": {
     "duration": 0.03554,
     "end_time": "2025-04-18T18:08:49.999182",
     "exception": false,
     "start_time": "2025-04-18T18:08:49.963642",
     "status": "completed"
    },
    "tags": []
   },
   "outputs": [
    {
     "data": {
      "text/html": [
       "<div>\n",
       "<style scoped>\n",
       "    .dataframe tbody tr th:only-of-type {\n",
       "        vertical-align: middle;\n",
       "    }\n",
       "\n",
       "    .dataframe tbody tr th {\n",
       "        vertical-align: top;\n",
       "    }\n",
       "\n",
       "    .dataframe thead th {\n",
       "        text-align: right;\n",
       "    }\n",
       "</style>\n",
       "<table border=\"1\" class=\"dataframe\">\n",
       "  <thead>\n",
       "    <tr style=\"text-align: right;\">\n",
       "      <th></th>\n",
       "      <th>count</th>\n",
       "      <th>unique</th>\n",
       "      <th>top</th>\n",
       "      <th>freq</th>\n",
       "    </tr>\n",
       "  </thead>\n",
       "  <tbody>\n",
       "    <tr>\n",
       "      <th>v1</th>\n",
       "      <td>5572</td>\n",
       "      <td>2</td>\n",
       "      <td>ham</td>\n",
       "      <td>4825</td>\n",
       "    </tr>\n",
       "    <tr>\n",
       "      <th>v2</th>\n",
       "      <td>5572</td>\n",
       "      <td>5169</td>\n",
       "      <td>Sorry, I'll call later</td>\n",
       "      <td>30</td>\n",
       "    </tr>\n",
       "    <tr>\n",
       "      <th>Unnamed: 2</th>\n",
       "      <td>50</td>\n",
       "      <td>43</td>\n",
       "      <td>bt not his girlfrnd... G o o d n i g h t . . .@\"</td>\n",
       "      <td>3</td>\n",
       "    </tr>\n",
       "    <tr>\n",
       "      <th>Unnamed: 3</th>\n",
       "      <td>12</td>\n",
       "      <td>10</td>\n",
       "      <td>MK17 92H. 450Ppw 16\"</td>\n",
       "      <td>2</td>\n",
       "    </tr>\n",
       "    <tr>\n",
       "      <th>Unnamed: 4</th>\n",
       "      <td>6</td>\n",
       "      <td>5</td>\n",
       "      <td>GNT:-)\"</td>\n",
       "      <td>2</td>\n",
       "    </tr>\n",
       "  </tbody>\n",
       "</table>\n",
       "</div>"
      ],
      "text/plain": [
       "           count unique                                                top  \\\n",
       "v1          5572      2                                                ham   \n",
       "v2          5572   5169                             Sorry, I'll call later   \n",
       "Unnamed: 2    50     43   bt not his girlfrnd... G o o d n i g h t . . .@\"   \n",
       "Unnamed: 3    12     10                               MK17 92H. 450Ppw 16\"   \n",
       "Unnamed: 4     6      5                                            GNT:-)\"   \n",
       "\n",
       "            freq  \n",
       "v1          4825  \n",
       "v2            30  \n",
       "Unnamed: 2     3  \n",
       "Unnamed: 3     2  \n",
       "Unnamed: 4     2  "
      ]
     },
     "execution_count": 4,
     "metadata": {},
     "output_type": "execute_result"
    }
   ],
   "source": [
    "df.describe().T"
   ]
  },
  {
   "cell_type": "markdown",
   "id": "13584f26",
   "metadata": {
    "papermill": {
     "duration": 0.004976,
     "end_time": "2025-04-18T18:08:50.009499",
     "exception": false,
     "start_time": "2025-04-18T18:08:50.004523",
     "status": "completed"
    },
    "tags": []
   },
   "source": [
    "<hr style = \" border-top: 2px solid purple; \" />"
   ]
  },
  {
   "cell_type": "markdown",
   "id": "c4bc684e",
   "metadata": {
    "papermill": {
     "duration": 0.004909,
     "end_time": "2025-04-18T18:08:50.019520",
     "exception": false,
     "start_time": "2025-04-18T18:08:50.014611",
     "status": "completed"
    },
    "tags": []
   },
   "source": [
    "#### ***We drop unnecessary columns that contain null or irrelevant values and keep only the columns required for classification: the label (spam or ham) and the message text.***"
   ]
  },
  {
   "cell_type": "markdown",
   "id": "e6958b48",
   "metadata": {
    "papermill": {
     "duration": 0.005,
     "end_time": "2025-04-18T18:08:50.029564",
     "exception": false,
     "start_time": "2025-04-18T18:08:50.024564",
     "status": "completed"
    },
    "tags": []
   },
   "source": [
    "<hr style = \" border-top: 2px solid purple; \" />"
   ]
  },
  {
   "cell_type": "code",
   "execution_count": 5,
   "id": "bd27392b",
   "metadata": {
    "execution": {
     "iopub.execute_input": "2025-04-18T18:08:50.042046Z",
     "iopub.status.busy": "2025-04-18T18:08:50.041118Z",
     "iopub.status.idle": "2025-04-18T18:08:50.056579Z",
     "shell.execute_reply": "2025-04-18T18:08:50.055714Z"
    },
    "papermill": {
     "duration": 0.023248,
     "end_time": "2025-04-18T18:08:50.058134",
     "exception": false,
     "start_time": "2025-04-18T18:08:50.034886",
     "status": "completed"
    },
    "tags": []
   },
   "outputs": [
    {
     "data": {
      "text/html": [
       "<div>\n",
       "<style scoped>\n",
       "    .dataframe tbody tr th:only-of-type {\n",
       "        vertical-align: middle;\n",
       "    }\n",
       "\n",
       "    .dataframe tbody tr th {\n",
       "        vertical-align: top;\n",
       "    }\n",
       "\n",
       "    .dataframe thead th {\n",
       "        text-align: right;\n",
       "    }\n",
       "</style>\n",
       "<table border=\"1\" class=\"dataframe\">\n",
       "  <thead>\n",
       "    <tr style=\"text-align: right;\">\n",
       "      <th></th>\n",
       "      <th>0</th>\n",
       "      <th>1</th>\n",
       "      <th>2</th>\n",
       "      <th>3</th>\n",
       "      <th>4</th>\n",
       "    </tr>\n",
       "  </thead>\n",
       "  <tbody>\n",
       "    <tr>\n",
       "      <th>label</th>\n",
       "      <td>ham</td>\n",
       "      <td>ham</td>\n",
       "      <td>spam</td>\n",
       "      <td>ham</td>\n",
       "      <td>ham</td>\n",
       "    </tr>\n",
       "    <tr>\n",
       "      <th>message</th>\n",
       "      <td>Go until jurong point, crazy.. Available only ...</td>\n",
       "      <td>Ok lar... Joking wif u oni...</td>\n",
       "      <td>Free entry in 2 a wkly comp to win FA Cup fina...</td>\n",
       "      <td>U dun say so early hor... U c already then say...</td>\n",
       "      <td>Nah I don't think he goes to usf, he lives aro...</td>\n",
       "    </tr>\n",
       "  </tbody>\n",
       "</table>\n",
       "</div>"
      ],
      "text/plain": [
       "                                                         0  \\\n",
       "label                                                  ham   \n",
       "message  Go until jurong point, crazy.. Available only ...   \n",
       "\n",
       "                                     1  \\\n",
       "label                              ham   \n",
       "message  Ok lar... Joking wif u oni...   \n",
       "\n",
       "                                                         2  \\\n",
       "label                                                 spam   \n",
       "message  Free entry in 2 a wkly comp to win FA Cup fina...   \n",
       "\n",
       "                                                         3  \\\n",
       "label                                                  ham   \n",
       "message  U dun say so early hor... U c already then say...   \n",
       "\n",
       "                                                         4  \n",
       "label                                                  ham  \n",
       "message  Nah I don't think he goes to usf, he lives aro...  "
      ]
     },
     "execution_count": 5,
     "metadata": {},
     "output_type": "execute_result"
    }
   ],
   "source": [
    "df = df[['v1','v2']]\n",
    "df.columns = ['label','message']\n",
    "df.head().T"
   ]
  },
  {
   "cell_type": "code",
   "execution_count": 6,
   "id": "38bff5b1",
   "metadata": {
    "execution": {
     "iopub.execute_input": "2025-04-18T18:08:50.070376Z",
     "iopub.status.busy": "2025-04-18T18:08:50.069978Z",
     "iopub.status.idle": "2025-04-18T18:08:50.338671Z",
     "shell.execute_reply": "2025-04-18T18:08:50.337738Z"
    },
    "papermill": {
     "duration": 0.276412,
     "end_time": "2025-04-18T18:08:50.340046",
     "exception": false,
     "start_time": "2025-04-18T18:08:50.063634",
     "status": "completed"
    },
    "tags": []
   },
   "outputs": [
    {
     "data": {
      "image/png": "[encoded data removed]",
      "text/plain": [
       "<Figure size 1000x200 with 1 Axes>"
      ]
     },
     "metadata": {},
     "output_type": "display_data"
    }
   ],
   "source": [
    "# Visualize the distribution of spam and ham messages\n",
    "plt.figure(figsize=(10, 2))\n",
    "df['label'].value_counts().plot(kind='barh',color=['green','red'])\n",
    "plt.title = 'Distribution of Spam vs Ham'\n",
    "plt.xlabel = 'Label'\n",
    "plt.show()"
   ]
  },
  {
   "cell_type": "markdown",
   "id": "8080152b",
   "metadata": {
    "papermill": {
     "duration": 0.005271,
     "end_time": "2025-04-18T18:08:50.351214",
     "exception": false,
     "start_time": "2025-04-18T18:08:50.345943",
     "status": "completed"
    },
    "tags": []
   },
   "source": [
    "<hr style = \" border-top: 2px solid purple; \" />"
   ]
  },
  {
   "cell_type": "markdown",
   "id": "06c4d42a",
   "metadata": {
    "papermill": {
     "duration": 0.005324,
     "end_time": "2025-04-18T18:08:50.362055",
     "exception": false,
     "start_time": "2025-04-18T18:08:50.356731",
     "status": "completed"
    },
    "tags": []
   },
   "source": [
    "#### ***Before feeding the text to the model, we clean it using techniques like:***\n",
    "##### - Lowercasing all text\n",
    "##### - Removing punctuation and non-alphanumeric characters\n",
    "##### - Removing stopwords\n",
    "##### - Applying stemming\n",
    "\n",
    "#### ***This helps reduce noise and improve model performance.*** ####"
   ]
  },
  {
   "cell_type": "markdown",
   "id": "e5369fd9",
   "metadata": {
    "papermill": {
     "duration": 0.005438,
     "end_time": "2025-04-18T18:08:50.373345",
     "exception": false,
     "start_time": "2025-04-18T18:08:50.367907",
     "status": "completed"
    },
    "tags": []
   },
   "source": [
    "<hr style = \" border-top: 2px solid purple; \" />"
   ]
  },
  {
   "cell_type": "code",
   "execution_count": 7,
   "id": "05c3488d",
   "metadata": {
    "execution": {
     "iopub.execute_input": "2025-04-18T18:08:50.386106Z",
     "iopub.status.busy": "2025-04-18T18:08:50.385719Z",
     "iopub.status.idle": "2025-04-18T18:08:50.395489Z",
     "shell.execute_reply": "2025-04-18T18:08:50.394500Z"
    },
    "papermill": {
     "duration": 0.018107,
     "end_time": "2025-04-18T18:08:50.397139",
     "exception": false,
     "start_time": "2025-04-18T18:08:50.379032",
     "status": "completed"
    },
    "tags": []
   },
   "outputs": [],
   "source": [
    "stop_words = set(stopwords.words('english'))\n",
    "ps = PorterStemmer()"
   ]
  },
  {
   "cell_type": "code",
   "execution_count": 8,
   "id": "5582dae0",
   "metadata": {
    "execution": {
     "iopub.execute_input": "2025-04-18T18:08:50.409922Z",
     "iopub.status.busy": "2025-04-18T18:08:50.409614Z",
     "iopub.status.idle": "2025-04-18T18:08:50.415105Z",
     "shell.execute_reply": "2025-04-18T18:08:50.414298Z"
    },
    "papermill": {
     "duration": 0.013483,
     "end_time": "2025-04-18T18:08:50.416463",
     "exception": false,
     "start_time": "2025-04-18T18:08:50.402980",
     "status": "completed"
    },
    "tags": []
   },
   "outputs": [],
   "source": [
    "# Define a function to preprocess text data\n",
    "def preprocess_text(text):\n",
    "  text = text.lower()\n",
    "  text = re.sub(r'[^a-zA-Z0-9\\s]','',text)\n",
    "  text = ' '.join([ps.stem(word) for word in text.split() if word not in stop_words])\n",
    "  return text"
   ]
  },
  {
   "cell_type": "code",
   "execution_count": 9,
   "id": "b4dbdc2f",
   "metadata": {
    "execution": {
     "iopub.execute_input": "2025-04-18T18:08:50.428892Z",
     "iopub.status.busy": "2025-04-18T18:08:50.428591Z",
     "iopub.status.idle": "2025-04-18T18:08:51.220058Z",
     "shell.execute_reply": "2025-04-18T18:08:51.219202Z"
    },
    "papermill": {
     "duration": 0.799438,
     "end_time": "2025-04-18T18:08:51.221451",
     "exception": false,
     "start_time": "2025-04-18T18:08:50.422013",
     "status": "completed"
    },
    "tags": []
   },
   "outputs": [
    {
     "data": {
      "text/html": [
       "<div>\n",
       "<style scoped>\n",
       "    .dataframe tbody tr th:only-of-type {\n",
       "        vertical-align: middle;\n",
       "    }\n",
       "\n",
       "    .dataframe tbody tr th {\n",
       "        vertical-align: top;\n",
       "    }\n",
       "\n",
       "    .dataframe thead th {\n",
       "        text-align: right;\n",
       "    }\n",
       "</style>\n",
       "<table border=\"1\" class=\"dataframe\">\n",
       "  <thead>\n",
       "    <tr style=\"text-align: right;\">\n",
       "      <th></th>\n",
       "      <th>0</th>\n",
       "      <th>1</th>\n",
       "      <th>2</th>\n",
       "      <th>3</th>\n",
       "      <th>4</th>\n",
       "    </tr>\n",
       "  </thead>\n",
       "  <tbody>\n",
       "    <tr>\n",
       "      <th>label</th>\n",
       "      <td>ham</td>\n",
       "      <td>ham</td>\n",
       "      <td>spam</td>\n",
       "      <td>ham</td>\n",
       "      <td>ham</td>\n",
       "    </tr>\n",
       "    <tr>\n",
       "      <th>message</th>\n",
       "      <td>Go until jurong point, crazy.. Available only ...</td>\n",
       "      <td>Ok lar... Joking wif u oni...</td>\n",
       "      <td>Free entry in 2 a wkly comp to win FA Cup fina...</td>\n",
       "      <td>U dun say so early hor... U c already then say...</td>\n",
       "      <td>Nah I don't think he goes to usf, he lives aro...</td>\n",
       "    </tr>\n",
       "    <tr>\n",
       "      <th>processed_message</th>\n",
       "      <td>go jurong point crazi avail bugi n great world...</td>\n",
       "      <td>ok lar joke wif u oni</td>\n",
       "      <td>free entri 2 wkli comp win fa cup final tkt 21...</td>\n",
       "      <td>u dun say earli hor u c alreadi say</td>\n",
       "      <td>nah dont think goe usf live around though</td>\n",
       "    </tr>\n",
       "  </tbody>\n",
       "</table>\n",
       "</div>"
      ],
      "text/plain": [
       "                                                                   0  \\\n",
       "label                                                            ham   \n",
       "message            Go until jurong point, crazy.. Available only ...   \n",
       "processed_message  go jurong point crazi avail bugi n great world...   \n",
       "\n",
       "                                               1  \\\n",
       "label                                        ham   \n",
       "message            Ok lar... Joking wif u oni...   \n",
       "processed_message          ok lar joke wif u oni   \n",
       "\n",
       "                                                                   2  \\\n",
       "label                                                           spam   \n",
       "message            Free entry in 2 a wkly comp to win FA Cup fina...   \n",
       "processed_message  free entri 2 wkli comp win fa cup final tkt 21...   \n",
       "\n",
       "                                                                   3  \\\n",
       "label                                                            ham   \n",
       "message            U dun say so early hor... U c already then say...   \n",
       "processed_message                u dun say earli hor u c alreadi say   \n",
       "\n",
       "                                                                   4  \n",
       "label                                                            ham  \n",
       "message            Nah I don't think he goes to usf, he lives aro...  \n",
       "processed_message          nah dont think goe usf live around though  "
      ]
     },
     "execution_count": 9,
     "metadata": {},
     "output_type": "execute_result"
    }
   ],
   "source": [
    "df['processed_message'] = df['message'].apply(preprocess_text)\n",
    "df.head().T"
   ]
  },
  {
   "cell_type": "code",
   "execution_count": 10,
   "id": "113d2c05",
   "metadata": {
    "execution": {
     "iopub.execute_input": "2025-04-18T18:08:51.234540Z",
     "iopub.status.busy": "2025-04-18T18:08:51.233839Z",
     "iopub.status.idle": "2025-04-18T18:08:51.240892Z",
     "shell.execute_reply": "2025-04-18T18:08:51.240174Z"
    },
    "papermill": {
     "duration": 0.014871,
     "end_time": "2025-04-18T18:08:51.242214",
     "exception": false,
     "start_time": "2025-04-18T18:08:51.227343",
     "status": "completed"
    },
    "tags": []
   },
   "outputs": [],
   "source": [
    "X = df['processed_message']\n",
    "y = df['label']\n",
    "\n",
    "X_train, X_test, y_train, y_test = train_test_split(X, y, test_size=0.2, random_state=42)"
   ]
  },
  {
   "cell_type": "markdown",
   "id": "c08c64dd",
   "metadata": {
    "papermill": {
     "duration": 0.005773,
     "end_time": "2025-04-18T18:08:51.253869",
     "exception": false,
     "start_time": "2025-04-18T18:08:51.248096",
     "status": "completed"
    },
    "tags": []
   },
   "source": [
    "<hr style = \" border-top: 2px solid purple; \" />"
   ]
  },
  {
   "cell_type": "markdown",
   "id": "f85ef365",
   "metadata": {
    "papermill": {
     "duration": 0.005519,
     "end_time": "2025-04-18T18:08:51.265141",
     "exception": false,
     "start_time": "2025-04-18T18:08:51.259622",
     "status": "completed"
    },
    "tags": []
   },
   "source": [
    "#### ***We convert text data into numerical form using TF-IDF vectorization. TF-IDF helps us find which words are important in a specific message while reducing the weight of common words across all messages.***"
   ]
  },
  {
   "cell_type": "markdown",
   "id": "1d2a9bf1",
   "metadata": {
    "papermill": {
     "duration": 0.005387,
     "end_time": "2025-04-18T18:08:51.276212",
     "exception": false,
     "start_time": "2025-04-18T18:08:51.270825",
     "status": "completed"
    },
    "tags": []
   },
   "source": [
    "<hr style = \" border-top: 2px solid purple; \" />"
   ]
  },
  {
   "cell_type": "code",
   "execution_count": 11,
   "id": "d6029669",
   "metadata": {
    "execution": {
     "iopub.execute_input": "2025-04-18T18:08:51.288831Z",
     "iopub.status.busy": "2025-04-18T18:08:51.288525Z",
     "iopub.status.idle": "2025-04-18T18:08:51.368146Z",
     "shell.execute_reply": "2025-04-18T18:08:51.367359Z"
    },
    "papermill": {
     "duration": 0.088045,
     "end_time": "2025-04-18T18:08:51.369866",
     "exception": false,
     "start_time": "2025-04-18T18:08:51.281821",
     "status": "completed"
    },
    "tags": []
   },
   "outputs": [],
   "source": [
    "# Convert text messagesinto numericalfeatures using TF-IDF\n",
    "vectorizer = TfidfVectorizer()\n",
    "X_train_tfidf = vectorizer.fit_transform(X_train)\n",
    "X_test_tfidf = vectorizer.transform(X_test)"
   ]
  },
  {
   "cell_type": "markdown",
   "id": "f40827b7",
   "metadata": {
    "papermill": {
     "duration": 0.005743,
     "end_time": "2025-04-18T18:08:51.381684",
     "exception": false,
     "start_time": "2025-04-18T18:08:51.375941",
     "status": "completed"
    },
    "tags": []
   },
   "source": [
    "<hr style = \" border-top: 2px solid purple; \" />"
   ]
  },
  {
   "cell_type": "markdown",
   "id": "62241e1c",
   "metadata": {
    "papermill": {
     "duration": 0.005551,
     "end_time": "2025-04-18T18:08:51.393035",
     "exception": false,
     "start_time": "2025-04-18T18:08:51.387484",
     "status": "completed"
    },
    "tags": []
   },
   "source": [
    "#### ***We use the Multinomial Naive Bayes classifier, which is well-suited for text classification tasks and train the model on the training set and prepare it for evaluation. After that we evaluate the model using classification metrics such as accuracy, precision, recall, and F1-score. A confusion matrix is also used to visually inspect how well the model distinguishes between spam and ham.***"
   ]
  },
  {
   "cell_type": "markdown",
   "id": "c6d889ed",
   "metadata": {
    "papermill": {
     "duration": 0.005599,
     "end_time": "2025-04-18T18:08:51.404451",
     "exception": false,
     "start_time": "2025-04-18T18:08:51.398852",
     "status": "completed"
    },
    "tags": []
   },
   "source": [
    "<hr style = \" border-top: 2px solid purple; \" />"
   ]
  },
  {
   "cell_type": "code",
   "execution_count": 12,
   "id": "5fb63be8",
   "metadata": {
    "execution": {
     "iopub.execute_input": "2025-04-18T18:08:51.417797Z",
     "iopub.status.busy": "2025-04-18T18:08:51.416773Z",
     "iopub.status.idle": "2025-04-18T18:08:51.630140Z",
     "shell.execute_reply": "2025-04-18T18:08:51.629215Z"
    },
    "papermill": {
     "duration": 0.221315,
     "end_time": "2025-04-18T18:08:51.631484",
     "exception": false,
     "start_time": "2025-04-18T18:08:51.410169",
     "status": "completed"
    },
    "tags": []
   },
   "outputs": [
    {
     "name": "stdout",
     "output_type": "stream",
     "text": [
      "Accuracy: 0.9623318385650225\n",
      "              precision    recall  f1-score   support\n",
      "\n",
      "         ham       0.96      1.00      0.98       965\n",
      "        spam       1.00      0.72      0.84       150\n",
      "\n",
      "    accuracy                           0.96      1115\n",
      "   macro avg       0.98      0.86      0.91      1115\n",
      "weighted avg       0.96      0.96      0.96      1115\n",
      "\n"
     ]
    },
    {
     "data": {
      "image/png": "[encoded data removed]",
      "text/plain": [
       "<Figure size 1000x200 with 2 Axes>"
      ]
     },
     "metadata": {},
     "output_type": "display_data"
    }
   ],
   "source": [
    "nb_classifier = MultinomialNB()\n",
    "nb_classifier.fit(X_train_tfidf, y_train)\n",
    "\n",
    "y_pred = nb_classifier.predict(X_test_tfidf)\n",
    "\n",
    "accuracy = accuracy_score(y_test, y_pred)\n",
    "print(f\"Accuracy: {accuracy}\")\n",
    "\n",
    "print(classification_report(y_test, y_pred))\n",
    "\n",
    "cm = confusion_matrix(y_test, y_pred)\n",
    "plt.figure(figsize=(10, 2))\n",
    "sns.heatmap(cm, annot=True, fmt='d', cmap='Blues', \n",
    "            xticklabels=['Predicted ham', 'Predicted spam'],\n",
    "            yticklabels=['Actual ham', 'Actual spam'])\n",
    "plt.show()"
   ]
  },
  {
   "cell_type": "markdown",
   "id": "d3fb6dd3",
   "metadata": {
    "papermill": {
     "duration": 0.006112,
     "end_time": "2025-04-18T18:08:51.644041",
     "exception": false,
     "start_time": "2025-04-18T18:08:51.637929",
     "status": "completed"
    },
    "tags": []
   },
   "source": [
    "<hr style = \" border-top: 2px solid purple; \" />"
   ]
  },
  {
   "cell_type": "markdown",
   "id": "0406a7fd",
   "metadata": {
    "papermill": {
     "duration": 0.005844,
     "end_time": "2025-04-18T18:08:51.655929",
     "exception": false,
     "start_time": "2025-04-18T18:08:51.650085",
     "status": "completed"
    },
    "tags": []
   },
   "source": [
    "#### ***We use GridSearchCV to find the best parameters (like alpha and fit_prior) for the Naive Bayes model to improve the classification results.***"
   ]
  },
  {
   "cell_type": "markdown",
   "id": "207de45e",
   "metadata": {
    "papermill": {
     "duration": 0.005639,
     "end_time": "2025-04-18T18:08:51.667492",
     "exception": false,
     "start_time": "2025-04-18T18:08:51.661853",
     "status": "completed"
    },
    "tags": []
   },
   "source": [
    "<hr style = \" border-top: 2px solid purple; \" />"
   ]
  },
  {
   "cell_type": "code",
   "execution_count": 13,
   "id": "b8dd785f",
   "metadata": {
    "execution": {
     "iopub.execute_input": "2025-04-18T18:08:51.681052Z",
     "iopub.status.busy": "2025-04-18T18:08:51.680720Z",
     "iopub.status.idle": "2025-04-18T18:08:54.336340Z",
     "shell.execute_reply": "2025-04-18T18:08:54.335326Z"
    },
    "papermill": {
     "duration": 2.664182,
     "end_time": "2025-04-18T18:08:54.337833",
     "exception": false,
     "start_time": "2025-04-18T18:08:51.673651",
     "status": "completed"
    },
    "tags": []
   },
   "outputs": [
    {
     "name": "stdout",
     "output_type": "stream",
     "text": [
      "Best Parameters: {'alpha': 0.1, 'fit_prior': True}\n",
      "Best Cross-Validation Score: 0.9505502815518121\n",
      "Test Accuracy: 0.9829596412556054\n",
      "              precision    recall  f1-score   support\n",
      "\n",
      "         ham       0.98      1.00      0.99       965\n",
      "        spam       1.00      0.87      0.93       150\n",
      "\n",
      "    accuracy                           0.98      1115\n",
      "   macro avg       0.99      0.94      0.96      1115\n",
      "weighted avg       0.98      0.98      0.98      1115\n",
      "\n"
     ]
    },
    {
     "data": {
      "image/png": "[encoded data removed]",
      "text/plain": [
       "<Figure size 1000x200 with 2 Axes>"
      ]
     },
     "metadata": {},
     "output_type": "display_data"
    }
   ],
   "source": [
    "# Tiuning parameters\n",
    "param_grid = {\n",
    "    'alpha': [0.1, 0.5, 1.0, 1.5, 2.0],\n",
    "    'fit_prior': [True, False]\n",
    "}\n",
    "\n",
    "# Using GridSearchCV for tiuning the model\n",
    "grid_search = GridSearchCV(estimator=nb_classifier,\n",
    "                           param_grid=param_grid, cv=5,\n",
    "                           scoring='f1_macro', n_jobs=-1)\n",
    "\n",
    "\n",
    "# Fit the GridSearchCV to the training data\n",
    "grid_search.fit(X_train_tfidf, y_train)\n",
    "\n",
    "# Get the best parameters and best score\n",
    "best_params = grid_search.best_params_\n",
    "best_score = grid_search.best_score_\n",
    "\n",
    "print(f\"Best Parameters: {best_params}\")\n",
    "print(f\"Best Cross-Validation Score: {best_score}\")\n",
    "\n",
    "# Evaluate the best model on the test set\n",
    "best_model = grid_search.best_estimator_\n",
    "y_pred = best_model.predict(X_test_tfidf)\n",
    "\n",
    "accuracy = accuracy_score(y_test, y_pred)\n",
    "print(f\"Test Accuracy: {accuracy}\")\n",
    "\n",
    "print(classification_report(y_test, y_pred))\n",
    "\n",
    "cm = confusion_matrix(y_test, y_pred)\n",
    "plt.figure(figsize=(10, 2))\n",
    "sns.heatmap(cm, annot=True, fmt='d', cmap='Blues', \n",
    "            xticklabels=['Predicted ham', 'Predicted spam'],\n",
    "            yticklabels=['Actual ham', 'Actual spam'])\n",
    "plt.show()\n"
   ]
  },
  {
   "cell_type": "markdown",
   "id": "df531fdb",
   "metadata": {
    "papermill": {
     "duration": 0.006496,
     "end_time": "2025-04-18T18:08:54.351182",
     "exception": false,
     "start_time": "2025-04-18T18:08:54.344686",
     "status": "completed"
    },
    "tags": []
   },
   "source": [
    "<hr style = \" border-top: 2px solid purple; \" />"
   ]
  },
  {
   "cell_type": "markdown",
   "id": "dd5c7810",
   "metadata": {
    "papermill": {
     "duration": 0.006315,
     "end_time": "2025-04-18T18:08:54.363996",
     "exception": false,
     "start_time": "2025-04-18T18:08:54.357681",
     "status": "completed"
    },
    "tags": []
   },
   "source": [
    "\n",
    "#### ***In this project, we successfully built a spam detection model using the Multinomial Naive Bayes algorithm. After preprocessing the data and tuning hyperparameters, we achieved a recall score of 87% for spam messages, which shows the model is effective in identifying spam.While we explored additional techniques like SMOTE and enhanced preprocessing, we found that they didn't improve performance further in this case. Future improvements could include trying other classifiers, larger datasets, or deep learning methods.***\n",
    "#### ***Overall, this project demonstrates a full machine learning pipeline for a real-world NLP problem.***\n"
   ]
  }
 ],
 "metadata": {
  "kaggle": {
   "accelerator": "none",
   "dataSources": [
    {
     "datasetId": 483,
     "sourceId": 982,
     "sourceType": "datasetVersion"
    }
   ],
   "dockerImageVersionId": 31012,
   "isGpuEnabled": false,
   "isInternetEnabled": true,
   "language": "python",
   "sourceType": "notebook"
  },
  "kernelspec": {
   "display_name": "Python 3",
   "language": "python",
   "name": "python3"
  },
  "language_info": {
   "codemirror_mode": {
    "name": "ipython",
    "version": 3
   },
   "file_extension": ".py",
   "mimetype": "text/x-python",
   "name": "python",
   "nbconvert_exporter": "python",
   "pygments_lexer": "ipython3",
   "version": "3.11.11"
  },
  "papermill": {
   "default_parameters": {},
   "duration": 16.513399,
   "end_time": "2025-04-18T18:08:56.990736",
   "environment_variables": {},
   "exception": null,
   "input_path": "__notebook__.ipynb",
   "output_path": "__notebook__.ipynb",
   "parameters": {},
   "start_time": "2025-04-18T18:08:40.477337",
   "version": "2.6.0"
  }
 },
 "nbformat": 4,
 "nbformat_minor": 5
}
